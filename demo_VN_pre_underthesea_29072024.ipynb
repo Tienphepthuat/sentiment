{
  "cells": [
    {
      "cell_type": "code",
      "source": [
        "from google.colab import drive\n",
        "drive.mount(\"/content/gdrive\", force_remount=True)"
      ],
      "metadata": {
        "colab": {
          "base_uri": "https://localhost:8080/"
        },
        "id": "7g9IV1reyxiw",
        "outputId": "a9092db7-52be-46d6-c5d0-c5352272d3a6"
      },
      "execution_count": null,
      "outputs": [
        {
          "output_type": "stream",
          "name": "stdout",
          "text": [
            "Mounted at /content/gdrive\n"
          ]
        }
      ]
    },
    {
      "cell_type": "code",
      "source": [
        "%cd '/content/gdrive/MyDrive/LDS0/Topic_11_Agoda/demo'"
      ],
      "metadata": {
        "colab": {
          "base_uri": "https://localhost:8080/"
        },
        "id": "dUVJNzpvj7-n",
        "outputId": "8c1ff27d-7513-420f-efee-c7ac6e211f01"
      },
      "execution_count": null,
      "outputs": [
        {
          "output_type": "stream",
          "name": "stdout",
          "text": [
            "/content/gdrive/MyDrive/LDS0/Topic_11_Agoda/demo\n"
          ]
        }
      ]
    },
    {
      "cell_type": "markdown",
      "source": [
        "## Tiền xử lý dữ liệu tiếng Việt"
      ],
      "metadata": {
        "id": "VxorV5ADJfIu"
      }
    },
    {
      "cell_type": "code",
      "source": [
        "# Có thể dùng thư viện underthesea hoặc bất cứ thư viện xử lý tiếng Việt nào khác"
      ],
      "metadata": {
        "id": "F2HFWqeheTQH"
      },
      "execution_count": null,
      "outputs": []
    },
    {
      "cell_type": "code",
      "source": [
        "!pip install underthesea\n",
        "!pip install demoji\n",
        "!pip install pyvi"
      ],
      "metadata": {
        "id": "4ZPNbAQry57x"
      },
      "execution_count": null,
      "outputs": []
    },
    {
      "cell_type": "code",
      "execution_count": null,
      "metadata": {
        "id": "eG1CUO_Yyr6t"
      },
      "outputs": [],
      "source": [
        "import pandas as pd\n",
        "import numpy as np\n",
        "from underthesea import word_tokenize, pos_tag, sent_tokenize\n",
        "import regex\n",
        "import demoji\n",
        "from pyvi import ViPosTagger, ViTokenizer\n",
        "import string"
      ]
    },
    {
      "cell_type": "code",
      "execution_count": null,
      "metadata": {
        "id": "CofhEKVtyr6x"
      },
      "outputs": [],
      "source": [
        "# https://underthesea.readthedocs.io/en/v1.1.5/readme.html\n",
        "# https://github.com/undertheseanlp/underthesea"
      ]
    },
    {
      "cell_type": "code",
      "execution_count": null,
      "metadata": {
        "id": "kh8pRQOXyr6y"
      },
      "outputs": [],
      "source": [
        "##LOAD EMOJICON\n",
        "file = open('files/emojicon.txt', 'r', encoding=\"utf8\")\n",
        "emoji_lst = file.read().split('\\n')\n",
        "emoji_dict = {}\n",
        "for line in emoji_lst:\n",
        "    key, value = line.split('\\t')\n",
        "    emoji_dict[key] = str(value)\n",
        "file.close()\n",
        "#################\n",
        "#LOAD TEENCODE\n",
        "file = open('files/teencode.txt', 'r', encoding=\"utf8\")\n",
        "teen_lst = file.read().split('\\n')\n",
        "teen_dict = {}\n",
        "for line in teen_lst:\n",
        "    key, value = line.split('\\t')\n",
        "    teen_dict[key] = str(value)\n",
        "file.close()\n",
        "###############\n",
        "#LOAD TRANSLATE ENGLISH -> VNMESE\n",
        "file = open('files/english-vnmese.txt', 'r', encoding=\"utf8\")\n",
        "english_lst = file.read().split('\\n')\n",
        "english_dict = {}\n",
        "for line in english_lst:\n",
        "    key, value = line.split('\\t')\n",
        "    english_dict[key] = str(value)\n",
        "file.close()\n",
        "################\n",
        "#LOAD wrong words\n",
        "file = open('files/wrong-word.txt', 'r', encoding=\"utf8\")\n",
        "wrong_lst = file.read().split('\\n')\n",
        "file.close()\n",
        "#################\n",
        "#LOAD STOPWORDS\n",
        "file = open('files/vietnamese-stopwords.txt', 'r', encoding=\"utf8\")\n",
        "stopwords_lst = file.read().split('\\n')\n",
        "file.close()"
      ]
    },
    {
      "cell_type": "code",
      "execution_count": null,
      "metadata": {
        "id": "5P38CCWpyr6y"
      },
      "outputs": [],
      "source": [
        "def process_text(text, emoji_dict, teen_dict, wrong_lst):\n",
        "    document = text.lower()\n",
        "    document = document.replace(\"’\",'')\n",
        "    document = regex.sub(r'\\.+', \".\", document)\n",
        "    new_sentence =''\n",
        "    for sentence in sent_tokenize(document):\n",
        "        # if not(sentence.isascii()):\n",
        "        ###### CONVERT EMOJICON\n",
        "        sentence = ''.join(emoji_dict[word]+' ' if word in emoji_dict else word for word in list(sentence))\n",
        "        ###### CONVERT TEENCODE\n",
        "        sentence = ' '.join(teen_dict[word] if word in teen_dict else word for word in sentence.split())\n",
        "        ###### DEL Punctuation & Numbers\n",
        "        pattern = r'(?i)\\b[a-záàảãạăắằẳẵặâấầẩẫậéèẻẽẹêếềểễệóòỏõọôốồổỗộơớờởỡợíìỉĩịúùủũụưứừửữựýỳỷỹỵđ]+\\b'\n",
        "        sentence = ' '.join(regex.findall(pattern,sentence))\n",
        "        # ...\n",
        "        ###### DEL wrong words\n",
        "        sentence = ' '.join('' if word in wrong_lst else word for word in sentence.split())\n",
        "        new_sentence = new_sentence+ sentence + '. '\n",
        "    document = new_sentence\n",
        "    #print(document)\n",
        "    ###### DEL excess blank space\n",
        "    document = regex.sub(r'\\s+', ' ', document).strip()\n",
        "    #...\n",
        "    return document"
      ]
    },
    {
      "cell_type": "code",
      "execution_count": null,
      "metadata": {
        "id": "BJe6wMxhyr6z"
      },
      "outputs": [],
      "source": [
        "example = '''Vc mình ở đây 2 đêm và rất hài lòng về ks .\n",
        "MT này nằm ở vị trí đắc địa, ngay trước biển và ngay khu phố trung tâm, nhộn nhịp và dễ đi lại.\n",
        "Về phòng ốc thì mình ở phòng view thành phố nhưng do săn đc giá tốt nên cũng rất hài lònggggggg 💚💚💚. Phòng sạch sẽ, tiện nghi và thoải mái, đặc biệt rất là thích ghế sofa để relax trong phòng.\n",
        "Nhân viên thật sự chu đáo và nhẹ nhàng. Dù không phải là khách sạn cực hiện đại và lộng lẫy nhưng xét về tổng thể với ks 4 sao thì rất hài lòng!'''"
      ]
    },
    {
      "cell_type": "code",
      "source": [
        "print(example)"
      ],
      "metadata": {
        "colab": {
          "base_uri": "https://localhost:8080/"
        },
        "id": "JZXPaEBrkkmn",
        "outputId": "e0385b4c-8984-4eb3-ed57-e6330c9f4715"
      },
      "execution_count": null,
      "outputs": [
        {
          "output_type": "stream",
          "name": "stdout",
          "text": [
            "Vc mình ở đây 2 đêm và rất hài lòng về ks . \n",
            "MT này nằm ở vị trí đắc địa, ngay trước biển và ngay khu phố trung tâm, nhộn nhịp và dễ đi lại. \n",
            "Về phòng ốc thì mình ở phòng view thành phố nhưng do săn đc giá tốt nên cũng rất hài lònggggggg 💚💚💚. Phòng sạch sẽ, tiện nghi và thoải mái, đặc biệt rất là thích ghế sofa để relax trong phòng. \n",
            "Nhân viên thật sự chu đáo và nhẹ nhàng. Dù không phải là khách sạn cực hiện đại và lộng lẫy nhưng xét về tổng thể với ks 4 sao thì rất hài lòng!\n"
          ]
        }
      ]
    },
    {
      "cell_type": "code",
      "execution_count": null,
      "metadata": {
        "id": "6RC9CVuEyr6z",
        "colab": {
          "base_uri": "https://localhost:8080/",
          "height": 70
        },
        "outputId": "84714fe4-0742-4f13-973a-d2eec557d415"
      },
      "outputs": [
        {
          "output_type": "execute_result",
          "data": {
            "text/plain": [
              "'vợ chồng mình ở đây đêm và rất hài lòng về khách sạn. này nằm ở vị trí đắc địa trước biển và phố tâm nhộn nhịp và dễ đi lại. về phòng ốc thì mình ở phòng cảnh thành phố nhưng săn được giá tốt nên cũng rất hài lònggggggg yêu yêu yêu. phòng sạch sẽ tiện và thoải mái đặc biệt rất là thích ghế để phòng. nhân viên thật sự đáo và nhẹ nhàng. dù không phải là khách sạn cực hiện đại và lộng lẫy nhưng xét về tổng thể với khách sạn thì rất hài lòng.'"
            ],
            "application/vnd.google.colaboratory.intrinsic+json": {
              "type": "string"
            }
          },
          "metadata": {},
          "execution_count": 19
        }
      ],
      "source": [
        "document = process_text(example, emoji_dict, teen_dict, wrong_lst)\n",
        "document"
      ]
    },
    {
      "cell_type": "code",
      "execution_count": null,
      "metadata": {
        "id": "Wums9sysyr60"
      },
      "outputs": [],
      "source": [
        "# Chuẩn hóa unicode tiếng việt\n",
        "def loaddicchar():\n",
        "    uniChars = \"àáảãạâầấẩẫậăằắẳẵặèéẻẽẹêềếểễệđìíỉĩịòóỏõọôồốổỗộơờớởỡợùúủũụưừứửữựỳýỷỹỵÀÁẢÃẠÂẦẤẨẪẬĂẰẮẲẴẶÈÉẺẼẸÊỀẾỂỄỆĐÌÍỈĨỊÒÓỎÕỌÔỒỐỔỖỘƠỜỚỞỠỢÙÚỦŨỤƯỪỨỬỮỰỲÝỶỸỴÂĂĐÔƠƯ\"\n",
        "    unsignChars = \"aaaaaaaaaaaaaaaaaeeeeeeeeeeediiiiiooooooooooooooooouuuuuuuuuuuyyyyyAAAAAAAAAAAAAAAAAEEEEEEEEEEEDIIIOOOOOOOOOOOOOOOOOOOUUUUUUUUUUUYYYYYAADOOU\"\n",
        "\n",
        "    dic = {}\n",
        "    char1252 = 'à|á|ả|ã|ạ|ầ|ấ|ẩ|ẫ|ậ|ằ|ắ|ẳ|ẵ|ặ|è|é|ẻ|ẽ|ẹ|ề|ế|ể|ễ|ệ|ì|í|ỉ|ĩ|ị|ò|ó|ỏ|õ|ọ|ồ|ố|ổ|ỗ|ộ|ờ|ớ|ở|ỡ|ợ|ù|ú|ủ|ũ|ụ|ừ|ứ|ử|ữ|ự|ỳ|ý|ỷ|ỹ|ỵ|À|Á|Ả|Ã|Ạ|Ầ|Ấ|Ẩ|Ẫ|Ậ|Ằ|Ắ|Ẳ|Ẵ|Ặ|È|É|Ẻ|Ẽ|Ẹ|Ề|Ế|Ể|Ễ|Ệ|Ì|Í|Ỉ|Ĩ|Ị|Ò|Ó|Ỏ|Õ|Ọ|Ồ|Ố|Ổ|Ỗ|Ộ|Ờ|Ớ|Ở|Ỡ|Ợ|Ù|Ú|Ủ|Ũ|Ụ|Ừ|Ứ|Ử|Ữ|Ự|Ỳ|Ý|Ỷ|Ỹ|Ỵ'.split(\n",
        "        '|')\n",
        "    charutf8 = \"à|á|ả|ã|ạ|ầ|ấ|ẩ|ẫ|ậ|ằ|ắ|ẳ|ẵ|ặ|è|é|ẻ|ẽ|ẹ|ề|ế|ể|ễ|ệ|ì|í|ỉ|ĩ|ị|ò|ó|ỏ|õ|ọ|ồ|ố|ổ|ỗ|ộ|ờ|ớ|ở|ỡ|ợ|ù|ú|ủ|ũ|ụ|ừ|ứ|ử|ữ|ự|ỳ|ý|ỷ|ỹ|ỵ|À|Á|Ả|Ã|Ạ|Ầ|Ấ|Ẩ|Ẫ|Ậ|Ằ|Ắ|Ẳ|Ẵ|Ặ|È|É|Ẻ|Ẽ|Ẹ|Ề|Ế|Ể|Ễ|Ệ|Ì|Í|Ỉ|Ĩ|Ị|Ò|Ó|Ỏ|Õ|Ọ|Ồ|Ố|Ổ|Ỗ|Ộ|Ờ|Ớ|Ở|Ỡ|Ợ|Ù|Ú|Ủ|Ũ|Ụ|Ừ|Ứ|Ử|Ữ|Ự|Ỳ|Ý|Ỷ|Ỹ|Ỵ\".split(\n",
        "        '|')\n",
        "    for i in range(len(char1252)):\n",
        "        dic[char1252[i]] = charutf8[i]\n",
        "    return dic\n",
        "\n",
        "# Đưa toàn bộ dữ liệu qua hàm này để chuẩn hóa lại\n",
        "def covert_unicode(txt):\n",
        "    dicchar = loaddicchar()\n",
        "    return regex.sub(\n",
        "        r'à|á|ả|ã|ạ|ầ|ấ|ẩ|ẫ|ậ|ằ|ắ|ẳ|ẵ|ặ|è|é|ẻ|ẽ|ẹ|ề|ế|ể|ễ|ệ|ì|í|ỉ|ĩ|ị|ò|ó|ỏ|õ|ọ|ồ|ố|ổ|ỗ|ộ|ờ|ớ|ở|ỡ|ợ|ù|ú|ủ|ũ|ụ|ừ|ứ|ử|ữ|ự|ỳ|ý|ỷ|ỹ|ỵ|À|Á|Ả|Ã|Ạ|Ầ|Ấ|Ẩ|Ẫ|Ậ|Ằ|Ắ|Ẳ|Ẵ|Ặ|È|É|Ẻ|Ẽ|Ẹ|Ề|Ế|Ể|Ễ|Ệ|Ì|Í|Ỉ|Ĩ|Ị|Ò|Ó|Ỏ|Õ|Ọ|Ồ|Ố|Ổ|Ỗ|Ộ|Ờ|Ớ|Ở|Ỡ|Ợ|Ù|Ú|Ủ|Ũ|Ụ|Ừ|Ứ|Ử|Ữ|Ự|Ỳ|Ý|Ỷ|Ỹ|Ỵ',\n",
        "        lambda x: dicchar[x.group()], txt)"
      ]
    },
    {
      "cell_type": "code",
      "execution_count": null,
      "metadata": {
        "id": "c2SBoMAEyr60",
        "colab": {
          "base_uri": "https://localhost:8080/",
          "height": 70
        },
        "outputId": "45c7676e-4df1-4259-ccc0-b5016fd4e413"
      },
      "outputs": [
        {
          "output_type": "execute_result",
          "data": {
            "text/plain": [
              "'vợ chồng mình ở đây đêm và rất hài lòng về khách sạn. này nằm ở vị trí đắc địa trước biển và phố tâm nhộn nhịp và dễ đi lại. về phòng ốc thì mình ở phòng cảnh thành phố nhưng săn được giá tốt nên cũng rất hài lònggggggg yêu yêu yêu. phòng sạch sẽ tiện và thoải mái đặc biệt rất là thích ghế để phòng. nhân viên thật sự đáo và nhẹ nhàng. dù không phải là khách sạn cực hiện đại và lộng lẫy nhưng xét về tổng thể với khách sạn thì rất hài lòng.'"
            ],
            "application/vnd.google.colaboratory.intrinsic+json": {
              "type": "string"
            }
          },
          "metadata": {},
          "execution_count": 21
        }
      ],
      "source": [
        "document = covert_unicode(document)\n",
        "document"
      ]
    },
    {
      "cell_type": "code",
      "execution_count": null,
      "metadata": {
        "id": "auHk1SStyr61"
      },
      "outputs": [],
      "source": [
        "def process_special_word(text):\n",
        "    # có thể có nhiều từ đặc biệt cần ráp lại với nhau\n",
        "    new_text = ''\n",
        "    text_lst = text.split()\n",
        "    i= 0\n",
        "    # không, chẳng, chả...\n",
        "    if 'không' in text_lst:\n",
        "        while i <= len(text_lst) - 1:\n",
        "            word = text_lst[i]\n",
        "            #print(word)\n",
        "            #print(i)\n",
        "            if  word == 'không':\n",
        "                next_idx = i+1\n",
        "                if next_idx <= len(text_lst) -1:\n",
        "                    word = word +'_'+ text_lst[next_idx]\n",
        "                i= next_idx + 1\n",
        "            else:\n",
        "                i = i+1\n",
        "            new_text = new_text + word + ' '\n",
        "    else:\n",
        "        new_text = text\n",
        "    return new_text.strip()"
      ]
    },
    {
      "cell_type": "code",
      "execution_count": null,
      "metadata": {
        "colab": {
          "base_uri": "https://localhost:8080/",
          "height": 70
        },
        "id": "rAZw23-tyr61",
        "outputId": "41088eab-263f-481b-c340-a1f681c2c072"
      },
      "outputs": [
        {
          "output_type": "execute_result",
          "data": {
            "text/plain": [
              "'vợ chồng mình ở đây đêm và rất hài lòng về khách sạn. này nằm ở vị trí đắc địa trước biển và phố tâm nhộn nhịp và dễ đi lại. về phòng ốc thì mình ở phòng cảnh thành phố nhưng săn được giá tốt nên cũng rất hài lònggggggg yêu yêu yêu. phòng sạch sẽ tiện và thoải mái đặc biệt rất là thích ghế để phòng. nhân viên thật sự đáo và nhẹ nhàng. dù không_phải là khách sạn cực hiện đại và lộng lẫy nhưng xét về tổng thể với khách sạn thì rất hài lòng.'"
            ],
            "application/vnd.google.colaboratory.intrinsic+json": {
              "type": "string"
            }
          },
          "metadata": {},
          "execution_count": 23
        }
      ],
      "source": [
        "x = process_special_word(document)\n",
        "x"
      ]
    },
    {
      "cell_type": "code",
      "source": [
        "import re\n",
        "# Hàm để chuẩn hóa các từ có ký tự lặp\n",
        "def normalize_repeated_characters(text):\n",
        "    # Thay thế mọi ký tự lặp liên tiếp bằng một ký tự đó\n",
        "    # Ví dụ: \"lònggggg\" thành \"lòng\", \"thiệtttt\" thành \"thiệt\"\n",
        "    return re.sub(r'(.)\\1+', r'\\1', text)\n",
        "\n",
        "# Áp dụng hàm chuẩn hóa cho văn bản\n",
        "# print(normalize_repeated_characters(example))"
      ],
      "metadata": {
        "id": "gq6q_AkInTO1"
      },
      "execution_count": null,
      "outputs": []
    },
    {
      "cell_type": "code",
      "source": [
        "document = normalize_repeated_characters(document)\n",
        "print(document)"
      ],
      "metadata": {
        "colab": {
          "base_uri": "https://localhost:8080/"
        },
        "id": "-TXL9-vLoVBN",
        "outputId": "46dfab62-6d9a-4f07-e7c2-52af36c66f34"
      },
      "execution_count": null,
      "outputs": [
        {
          "output_type": "stream",
          "name": "stdout",
          "text": [
            "vợ chồng mình ở đây đêm và rất hài lòng về khách sạn. này nằm ở vị trí đắc địa trước biển và phố tâm nhộn nhịp và dễ đi lại. về phòng ốc thì mình ở phòng cảnh thành phố nhưng săn được giá tốt nên cũng rất hài lòng yêu yêu yêu. phòng sạch sẽ tiện và thoải mái đặc biệt rất là thích ghế để phòng. nhân viên thật sự đáo và nhẹ nhàng. dù không phải là khách sạn cực hiện đại và lộng lẫy nhưng xét về tổng thể với khách sạn thì rất hài lòng.\n"
          ]
        }
      ]
    },
    {
      "cell_type": "code",
      "execution_count": null,
      "metadata": {
        "id": "EFuQF1gMyr62"
      },
      "outputs": [],
      "source": [
        "def process_postag_thesea(text):\n",
        "    new_document = ''\n",
        "    for sentence in sent_tokenize(text):\n",
        "        sentence = sentence.replace('.','')\n",
        "        ###### POS tag\n",
        "        lst_word_type = ['N','Np','A','AB','V','VB','VY','R']\n",
        "        # lst_word_type = ['A','AB','V','VB','VY','R']\n",
        "        sentence = ' '.join( word[0] if word[1].upper() in lst_word_type else '' for word in pos_tag(process_special_word(word_tokenize(sentence, format=\"text\"))))\n",
        "        new_document = new_document + sentence + ' '\n",
        "    ###### DEL excess blank space\n",
        "    new_document = regex.sub(r'\\s+', ' ', new_document).strip()\n",
        "    return new_document"
      ]
    },
    {
      "cell_type": "code",
      "execution_count": null,
      "metadata": {
        "id": "0GXjo_K3yr62"
      },
      "outputs": [],
      "source": [
        "document = process_postag_thesea(document)"
      ]
    },
    {
      "cell_type": "code",
      "execution_count": null,
      "metadata": {
        "colab": {
          "base_uri": "https://localhost:8080/",
          "height": 53
        },
        "id": "XUJVSL9Hyr62",
        "outputId": "9a29b6f0-02f4-48a7-c563-9560f4110711"
      },
      "outputs": [
        {
          "output_type": "execute_result",
          "data": {
            "text/plain": [
              "'vợ_chồng đêm rất hài_lòng nằm vị_trí đắc_địa biển phố_tâm nhộn_nhịp dễ phòng_ốc phòng cảnh săn được_giá tốt cũng rất hài_lòng yêu_yêu yêu phòng sạch_sẽ tiện thoải_mái đặc_biệt rất là thích ghế phòng nhân_viên thật_sự_đáo không_phải là khách_sạn cực hiện_đại lộng_lẫy xét tổng_thể khách_sạn rất hài_lòng'"
            ],
            "application/vnd.google.colaboratory.intrinsic+json": {
              "type": "string"
            }
          },
          "metadata": {},
          "execution_count": 28
        }
      ],
      "source": [
        "document"
      ]
    },
    {
      "cell_type": "code",
      "execution_count": null,
      "metadata": {
        "id": "oSX3s05Zyr62"
      },
      "outputs": [],
      "source": [
        "def remove_stopword(text, stopwords):\n",
        "    ###### REMOVE stop words\n",
        "    document = ' '.join('' if word in stopwords else word for word in text.split())\n",
        "    #print(document)\n",
        "    ###### DEL excess blank space\n",
        "    document = regex.sub(r'\\s+', ' ', document).strip()\n",
        "    return document"
      ]
    },
    {
      "cell_type": "code",
      "execution_count": null,
      "metadata": {
        "colab": {
          "base_uri": "https://localhost:8080/",
          "height": 53
        },
        "id": "jeW5FUUryr62",
        "outputId": "080ff806-a621-49b9-92cf-7068072d7ae4"
      },
      "outputs": [
        {
          "output_type": "execute_result",
          "data": {
            "text/plain": [
              "'vợ_chồng đêm hài_lòng nằm đắc_địa biển phố_tâm nhộn_nhịp phòng_ốc phòng cảnh săn được_giá tốt hài_lòng yêu_yêu yêu phòng sạch_sẽ tiện thoải_mái thích ghế phòng thật_sự_đáo khách_sạn cực hiện_đại lộng_lẫy xét tổng_thể khách_sạn hài_lòng'"
            ],
            "application/vnd.google.colaboratory.intrinsic+json": {
              "type": "string"
            }
          },
          "metadata": {},
          "execution_count": 30
        }
      ],
      "source": [
        "document = remove_stopword(document, stopwords_lst)\n",
        "document"
      ]
    },
    {
      "cell_type": "markdown",
      "source": [
        "## Tạo thêm các cột mới dựa trên việc đếm từ/icon positive và negative\n",
        "- Tạo danh sách các từ positive -> lưu vào file positive_VN.txt (mỗi từ trên 1 dòng)\n",
        "- Tạo danh sách các từ negative -> lưu vào file negative_VN.txt (mỗi từ trên 1 dòng)\n",
        "- Tạo danh sách các positve emojis -> lưu vào file positive_emoji.txt (mỗi icon trên 1 dòng)\n",
        "- Tạo danh sách các negative emojis -> lưu vào file negative_emoji.txt (mỗi icon trên 1 dòng)\n",
        "- Đọc vào các list tương ứng\n",
        "- Viết function để đọc 1 chuỗi -> đếm số lượng positive words/ emojis hoặc  negative words/ ememojis, danh sách từ kết quả\n",
        "- Tạo ra 2 cột mới cho dataframe: negative_count/ positive_count\n",
        "- ..."
      ],
      "metadata": {
        "id": "ojRtRJSx8CZD"
      }
    },
    {
      "cell_type": "code",
      "source": [
        "positive_words = [\n",
        "    \"thích\", \"tốt\", \"xuất sắc\", \"tuyệt vời\", \"tuyệt hảo\", \"đẹp\", \"ổn\", \"ngon\",\n",
        "    \"hài lòng\", \"ưng ý\", \"hoàn hảo\", \"chất lượng\", \"thú vị\", \"nhanh\",\n",
        "    \"tiện lợi\", \"dễ sử dụng\", \"hiệu quả\", \"ấn tượng\",\n",
        "    \"nổi bật\", \"tận hưởng\", \"tốn ít thời gian\", \"thân thiện\", \"hấp dẫn\",\n",
        "    \"cao cấp\", \"độc đáo\", \"rất tốt\", \"rất thích\", \"tận tâm\", \"đáng tin cậy\", \"đẳng cấp\",\n",
        "    \"hấp dẫn\", \"an tâm\", \"thúc đẩy\", \"cảm động\", \"phục vụ tốt\", \"làm hài lòng\", \"gây ấn tượng\", \"nổi trội\",\n",
        "    \"sáng tạo\", \"phù hợp\", \"tận tâm\", \"hiếm có\", \"cải thiện\", \"hoà nhã\", \"chăm chỉ\", \"cẩn thận\",\n",
        "    \"vui vẻ\", \"sáng sủa\", \"hào hứng\", \"đam mê\", \"vừa vặn\", \"đáng tiền\"\n",
        "]"
      ],
      "metadata": {
        "id": "fl9Jse0l9buR"
      },
      "execution_count": null,
      "outputs": []
    },
    {
      "cell_type": "code",
      "source": [
        "len(positive_words)"
      ],
      "metadata": {
        "id": "U1qEeyJv9tf4",
        "colab": {
          "base_uri": "https://localhost:8080/"
        },
        "outputId": "d8efe3f5-f0f0-48fb-c8f6-908532702f24"
      },
      "execution_count": null,
      "outputs": [
        {
          "output_type": "execute_result",
          "data": {
            "text/plain": [
              "52"
            ]
          },
          "metadata": {},
          "execution_count": 32
        }
      ]
    },
    {
      "cell_type": "code",
      "source": [
        "negative_words = [\n",
        "    \"kém\", \"tệ\", \"buồn\", \"chán\",\n",
        "    \"kém chất lượng\", \"không thích\", \"không ổn\",\n",
        "    \"không hợp\", \"không đáng tin cậy\", \"không chuyên nghiệp\",\n",
        "    \"không phản hồi\", \"không an toàn\", \"không phù hợp\", \"không thân thiện\", \"không linh hoạt\", \"không đáng giá\",\n",
        "    \"không ấn tượng\", \"không tốt\", \"chậm\", \"khó khăn\", \"phức tạp\",\n",
        "    \"khó chịu\", \"gây khó dễ\", \"rườm rà\", \"thất bại\", \"tồi tệ\", \"khó xử\", \"không thể chấp nhận\", \"tồi tệ\",\"không rõ ràng\",\n",
        "    \"không chắc chắn\", \"rối rắm\", \"không tiện lợi\", \"không đáng tiền\", \"chưa đẹp\", \"không đẹp\",\n",
        "    'tồi', 'xấu', 'không hài lòng', 'bẩn', 'khó chịu', 'không sạch sẽ', 'không thoải mái', 'không đáng', 'quá tệ', 'rất tệ',\n",
        "    'thất vọng', 'chán', 'tệ hại', 'kinh khủng', 'khủng khiếp', 'không ưng ý'\n",
        "]"
      ],
      "metadata": {
        "id": "lQLgtqZv9Ye5"
      },
      "execution_count": null,
      "outputs": []
    },
    {
      "cell_type": "code",
      "source": [
        "len(negative_words)"
      ],
      "metadata": {
        "id": "Heg5npFz-ZvZ",
        "colab": {
          "base_uri": "https://localhost:8080/"
        },
        "outputId": "c68fbd81-a11b-437d-f5fc-531eac107426"
      },
      "execution_count": null,
      "outputs": [
        {
          "output_type": "execute_result",
          "data": {
            "text/plain": [
              "52"
            ]
          },
          "metadata": {},
          "execution_count": 34
        }
      ]
    },
    {
      "cell_type": "code",
      "source": [
        "def find_words(document, list_of_words):\n",
        "    document_lower = document.lower()\n",
        "    word_count = 0\n",
        "    word_list = []\n",
        "\n",
        "    for word in list_of_words:\n",
        "        if word in document_lower:\n",
        "            print(word)\n",
        "            word_count += document_lower.count(word)\n",
        "            word_list.append(word)\n",
        "\n",
        "    return word_count, word_list"
      ],
      "metadata": {
        "id": "Z4utzELqC-nH"
      },
      "execution_count": null,
      "outputs": []
    },
    {
      "cell_type": "code",
      "source": [
        "# Example usage\n",
        "document = '''Vc mình ở đây 2 đêm và rất hài lòng về ks .\n",
        "MT này nằm ở vị trí đắc địa, ngay trước biển và ngay khu phố trung tâm, nhộn nhịp và dễ đi lại.\n",
        "Về phòng ốc thì mình ở phòng view thành phố nhưng do săn đc giá tốt nên cũng rất hài lònggggggg 💚💚💚. Phòng sạch sẽ, tiện nghi và thoải mái, đặc biệt rất là thích ghế sofa để relax trong phòng.\n",
        "Nhân viên thật sự chu đáo và nhẹ nhàng. Dù không phải là khách sạn cực hiện đại và lộng lẫy nhưng xét về tổng thể với ks 4 sao thì rất hài lòng!'''"
      ],
      "metadata": {
        "id": "Jvdna0CqDqKH"
      },
      "execution_count": null,
      "outputs": []
    },
    {
      "cell_type": "code",
      "source": [
        "document = normalize_repeated_characters(document)"
      ],
      "metadata": {
        "id": "OtIls6Vmk8vn"
      },
      "execution_count": null,
      "outputs": []
    },
    {
      "cell_type": "code",
      "source": [
        "positive_count, positive_word_list = find_words(document, positive_words)\n",
        "\n",
        "print(\"Number of positive words:\", positive_count)\n",
        "print(\"List of positive words:\", positive_word_list)"
      ],
      "metadata": {
        "colab": {
          "base_uri": "https://localhost:8080/"
        },
        "id": "cBq8PMssBvvB",
        "outputId": "d011d063-24e9-48da-8548-1d0d96e5899f"
      },
      "execution_count": null,
      "outputs": [
        {
          "output_type": "stream",
          "name": "stdout",
          "text": [
            "thích\n",
            "tốt\n",
            "ổn\n",
            "hài lòng\n",
            "Number of positive words: 6\n",
            "List of positive words: ['thích', 'tốt', 'ổn', 'hài lòng']\n"
          ]
        }
      ]
    },
    {
      "cell_type": "code",
      "source": [
        "negative_count, negative_word_list = find_words(document, negative_words)\n",
        "\n",
        "print(\"Number of negative words:\", negative_count)\n",
        "print(\"List of negative words:\", negative_word_list)"
      ],
      "metadata": {
        "colab": {
          "base_uri": "https://localhost:8080/"
        },
        "id": "V2KBSVoNDRbe",
        "outputId": "5b276d7d-ca45-4121-da85-54bb54d38fac"
      },
      "execution_count": null,
      "outputs": [
        {
          "output_type": "stream",
          "name": "stdout",
          "text": [
            "Number of negative words: 0\n",
            "List of negative words: []\n"
          ]
        }
      ]
    },
    {
      "cell_type": "code",
      "source": [
        "# Count emojis positive and negative\n",
        "negative_emojis = [\n",
        "    \"😞\", \"😔\", \"🙁\", \"☹️\", \"😕\",\n",
        "    \"😢\", \"😭\", \"😖\", \"😣\", \"😩\",\n",
        "    \"😠\", \"😡\", \"🤬\", \"😤\", \"😰\",\n",
        "    \"😨\", \"😱\", \"😪\", \"😓\", \"🥺\",\n",
        "    \"😒\", \"🙄\", \"😑\", \"😬\", \"😶\",\n",
        "    \"🤯\", \"😳\", \"🤢\", \"🤮\", \"🤕\",\n",
        "    \"🥴\", \"🤔\", \"😷\", \"🙅‍♂️\", \"🙅‍♀️\",\n",
        "    \"🙆‍♂️\", \"🙆‍♀️\", \"🙇‍♂️\", \"🙇‍♀️\", \"🤦‍♂️\",\n",
        "    \"🤦‍♀️\", \"🤷‍♂️\", \"🤷‍♀️\", \"🤢\", \"🤧\",\n",
        "    \"🤨\", \"🤫\", \"👎\", \"👊\", \"✊\", \"🤛\", \"🤜\",\n",
        "    \"🤚\", \"🖕\"\n",
        "]"
      ],
      "metadata": {
        "id": "nBYIj19XFJkH"
      },
      "execution_count": null,
      "outputs": []
    },
    {
      "cell_type": "code",
      "source": [
        "len(negative_emojis)"
      ],
      "metadata": {
        "id": "KmFhyhI9FkfG",
        "colab": {
          "base_uri": "https://localhost:8080/"
        },
        "outputId": "e4b0776c-c7e4-42b9-c6bc-32dcbb7f5887"
      },
      "execution_count": null,
      "outputs": [
        {
          "output_type": "execute_result",
          "data": {
            "text/plain": [
              "54"
            ]
          },
          "metadata": {},
          "execution_count": 51
        }
      ]
    },
    {
      "cell_type": "code",
      "source": [
        "positive_emojis = [\n",
        "    \"😄\", \"😃\", \"😀\", \"😁\", \"😆\",\n",
        "    \"😅\", \"🤣\", \"😂\", \"🙂\", \"🙃\",\n",
        "    \"😉\", \"😊\", \"😇\", \"🥰\", \"😍\",\n",
        "    \"🤩\", \"😘\", \"😗\", \"😚\", \"😙\",\n",
        "    \"😋\", \"😛\", \"😜\", \"🤪\", \"😝\",\n",
        "    \"🤗\", \"🤭\", \"🥳\", \"😌\", \"😎\",\n",
        "    \"🤓\", \"🧐\", \"👍\", \"🤝\", \"🙌\", \"👏\", \"👋\",\n",
        "    \"🤙\", \"✋\", \"🖐️\", \"👌\", \"🤞\",\n",
        "    \"✌️\", \"🤟\", \"👈\", \"👉\", \"👆\",\n",
        "    \"👇\", \"☝️\", \"💚\"\n",
        "]"
      ],
      "metadata": {
        "id": "CrCv5JJVGSi3"
      },
      "execution_count": null,
      "outputs": []
    },
    {
      "cell_type": "code",
      "source": [
        "len(positive_emojis)"
      ],
      "metadata": {
        "id": "HFpBmaweHU-9",
        "colab": {
          "base_uri": "https://localhost:8080/"
        },
        "outputId": "09fd6146-28ee-4e66-e861-8f144c323410"
      },
      "execution_count": null,
      "outputs": [
        {
          "output_type": "execute_result",
          "data": {
            "text/plain": [
              "50"
            ]
          },
          "metadata": {},
          "execution_count": 53
        }
      ]
    },
    {
      "cell_type": "code",
      "source": [
        "positive_icon, positive_icon_list = find_words(document, positive_emojis)\n",
        "\n",
        "print(\"Number of positive icons:\", positive_icon)\n",
        "print(\"List of positive icons:\", positive_icon_list)"
      ],
      "metadata": {
        "colab": {
          "base_uri": "https://localhost:8080/"
        },
        "id": "1vgbtg5rFjn4",
        "outputId": "c5045a75-2a35-43fa-ccfb-45a4a172fab8"
      },
      "execution_count": null,
      "outputs": [
        {
          "output_type": "stream",
          "name": "stdout",
          "text": [
            "💚\n",
            "Number of positive icons: 1\n",
            "List of positive icons: ['💚']\n"
          ]
        }
      ]
    },
    {
      "cell_type": "code",
      "source": [
        "negative_icon, negative_icon_list = find_words(document, negative_emojis)\n",
        "\n",
        "print(\"Number of negative words:\", negative_icon)\n",
        "print(\"List of negative words:\", negative_icon_list)"
      ],
      "metadata": {
        "colab": {
          "base_uri": "https://localhost:8080/"
        },
        "id": "wj3IGYyOFVU3",
        "outputId": "627b07ed-d3c2-4285-8f27-f15293d3ab87"
      },
      "execution_count": null,
      "outputs": [
        {
          "output_type": "stream",
          "name": "stdout",
          "text": [
            "Number of negative words: 0\n",
            "List of negative words: []\n"
          ]
        }
      ]
    },
    {
      "cell_type": "code",
      "source": [
        "document_1 = '''Thang máy thường xuyên tắc trong giờ sáng, tôi phải chờ 10 phút mới xuống được sảnh, thang rất bí.\n",
        "Bể bơi bẩn, toàn hóa chất 😡😡. Bù lại vị trí đẹp, gần biển 👍. Sẽ quay lại nếu cải thiện.'''"
      ],
      "metadata": {
        "id": "wC_5cnKdlVcC"
      },
      "execution_count": null,
      "outputs": []
    },
    {
      "cell_type": "code",
      "source": [
        "positive_count, positive_word_list = find_words(document_1, positive_words)\n",
        "\n",
        "print(\"Number of positive words:\", positive_count)\n",
        "print(\"List of positive words:\", positive_word_list)"
      ],
      "metadata": {
        "colab": {
          "base_uri": "https://localhost:8080/"
        },
        "id": "AqH3K1uUlxmU",
        "outputId": "5511d10d-5165-4ead-932e-5c1632f2bd9c"
      },
      "execution_count": null,
      "outputs": [
        {
          "output_type": "stream",
          "name": "stdout",
          "text": [
            "đẹp\n",
            "cải thiện\n",
            "Number of positive words: 2\n",
            "List of positive words: ['đẹp', 'cải thiện']\n"
          ]
        }
      ]
    },
    {
      "cell_type": "code",
      "source": [
        "negative_count, negative_word_list = find_words(document_1, negative_words)\n",
        "\n",
        "print(\"Number of negative words:\", negative_count)\n",
        "print(\"List of negative words:\", negative_word_list)"
      ],
      "metadata": {
        "colab": {
          "base_uri": "https://localhost:8080/"
        },
        "id": "dnpdnIDml1cz",
        "outputId": "24bd30be-d438-4da2-c4c5-1523045e7a6a"
      },
      "execution_count": null,
      "outputs": [
        {
          "output_type": "stream",
          "name": "stdout",
          "text": [
            "bẩn\n",
            "Number of negative words: 1\n",
            "List of negative words: ['bẩn']\n"
          ]
        }
      ]
    },
    {
      "cell_type": "code",
      "source": [
        "positive_icon, positive_icon_list = find_words(document_1, positive_emojis)\n",
        "\n",
        "print(\"Number of positive icons:\", positive_icon)\n",
        "print(\"List of positive icons:\", positive_icon_list)"
      ],
      "metadata": {
        "colab": {
          "base_uri": "https://localhost:8080/"
        },
        "id": "Cr0Xk5BqmIGh",
        "outputId": "e861147b-cd79-4b74-a244-b549412527e3"
      },
      "execution_count": null,
      "outputs": [
        {
          "output_type": "stream",
          "name": "stdout",
          "text": [
            "👍\n",
            "Number of positive icons: 1\n",
            "List of positive icons: ['👍']\n"
          ]
        }
      ]
    },
    {
      "cell_type": "code",
      "source": [
        "negative_icon, negative_icon_list = find_words(document_1, negative_emojis)\n",
        "\n",
        "print(\"Number of negative words:\", negative_icon)\n",
        "print(\"List of negative words:\", negative_icon_list)"
      ],
      "metadata": {
        "colab": {
          "base_uri": "https://localhost:8080/"
        },
        "id": "qcSIkuuVmMEo",
        "outputId": "809989e2-706b-42ed-e0e2-59eb8ef72a56"
      },
      "execution_count": null,
      "outputs": [
        {
          "output_type": "stream",
          "name": "stdout",
          "text": [
            "😡\n",
            "Number of negative words: 2\n",
            "List of negative words: ['😡']\n"
          ]
        }
      ]
    },
    {
      "cell_type": "code",
      "source": [],
      "metadata": {
        "id": "kb4DM5GRmJ-3"
      },
      "execution_count": null,
      "outputs": []
    }
  ],
  "metadata": {
    "kernelspec": {
      "display_name": "Python 3",
      "language": "python",
      "name": "python3"
    },
    "language_info": {
      "codemirror_mode": {
        "name": "ipython",
        "version": 3
      },
      "file_extension": ".py",
      "mimetype": "text/x-python",
      "name": "python",
      "nbconvert_exporter": "python",
      "pygments_lexer": "ipython3",
      "version": "3.6.8"
    },
    "colab": {
      "provenance": []
    }
  },
  "nbformat": 4,
  "nbformat_minor": 0
}